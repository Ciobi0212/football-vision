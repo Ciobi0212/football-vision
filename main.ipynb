{
 "cells": [
  {
   "cell_type": "code",
   "execution_count": null,
   "metadata": {},
   "outputs": [],
   "source": [
    "from utility import read_video, save_video, draw_tracks, draw_ball_possession\n",
    "from assigners import TeamAssigner, BallAssigner\n",
    "from track import Tracker\n",
    "import os\n",
    "os.environ[\"KMP_DUPLICATE_LIB_OK\"]=\"TRUE\"\n",
    "\n",
    "# Read video\n",
    "frames = read_video(\"input_videos/42ba34_1.mp4\")\n",
    "\n",
    "# Track players, referees and ball\n",
    "tracker = Tracker(\"models/best.pt\")\n",
    "\n",
    "tracks = tracker.get_tracks(frames=frames)\n",
    "\n",
    "# Optional: interpolate ball tracks\n",
    "# tracks['ball'] = tracker.interpolate_ball_tracks(tracks['ball'])\n",
    "\n",
    "team_assigner = TeamAssigner(tracks['players'], frames)\n",
    "\n",
    "# Assign team colors to players\n",
    "team_0_color, team_1_color = team_assigner.add_team_color_to_player_tracks()\n",
    "\n",
    "# Assign ball possession to players \n",
    "ball_assigner = BallAssigner(tracks['ball'], tracks['players'])\n",
    "\n",
    "ball_assigner.assign_ball_to_player()"
   ]
  },
  {
   "cell_type": "code",
   "execution_count": null,
   "metadata": {},
   "outputs": [],
   "source": [
    "# Get ball possession\n",
    "possession = ball_assigner.get_team_ball_possession(player_tracks=tracks['players'])\n",
    "\n",
    "# Draw tracks\n",
    "frames = draw_tracks(tracks, frames)\n",
    "\n",
    "# Draw possesion statistics\n",
    "frames = draw_ball_possession(frames, possession, team_0_color, team_1_color)\n",
    "\n",
    "# Save video\n",
    "save_video(frames, \"output_videos/output.avi\")"
   ]
  }
 ],
 "metadata": {
  "kernelspec": {
   "display_name": "SL",
   "language": "python",
   "name": "python3"
  },
  "language_info": {
   "codemirror_mode": {
    "name": "ipython",
    "version": 3
   },
   "file_extension": ".py",
   "mimetype": "text/x-python",
   "name": "python",
   "nbconvert_exporter": "python",
   "pygments_lexer": "ipython3",
   "version": "3.9.18"
  }
 },
 "nbformat": 4,
 "nbformat_minor": 2
}
