{
 "cells": [
  {
   "cell_type": "code",
   "execution_count": null,
   "metadata": {},
   "outputs": [],
   "source": [
    "from utility import read_video, save_video, draw_tracks\n",
    "\n",
    "# Read video\n",
    "frames = read_video(\"input_videos/08fd33_4.mp4\")"
   ]
  },
  {
   "cell_type": "code",
   "execution_count": null,
   "metadata": {},
   "outputs": [],
   "source": [
    "from track import Tracker"
   ]
  },
  {
   "cell_type": "code",
   "execution_count": null,
   "metadata": {},
   "outputs": [],
   "source": [
    "# Create tracker\n",
    "import os\n",
    "os.environ[\"KMP_DUPLICATE_LIB_OK\"]=\"TRUE\"\n",
    "\n",
    "tracker = Tracker(\"models/best.pt\")\n",
    "\n",
    "tracks = tracker.get_tracks(frames=frames)\n",
    "\n",
    "# Draw tracks\n",
    "frames = draw_tracks(tracks, frames)\n",
    "\n"
   ]
  },
  {
   "cell_type": "code",
   "execution_count": null,
   "metadata": {},
   "outputs": [],
   "source": [
    "# Save video\n",
    "save_video(frames, \"output_videos/output.avi\")"
   ]
  },
  {
   "cell_type": "code",
   "execution_count": 1,
   "metadata": {},
   "outputs": [],
   "source": [
    "from utility import read_video, save_video, draw_tracks\n",
    "\n",
    "from track import Tracker\n",
    "\n",
    "frames = read_video(\"input_videos/08fd33_4.mp4\")\n",
    "\n",
    "tracker = Tracker(\"models/best.pt\")\n",
    "\n",
    "tracks = tracker.get_tracks(read_from_path=True, read_path='track/saved_tracks/tracks_2024-05-18_22-26-21.pkl')"
   ]
  },
  {
   "cell_type": "code",
   "execution_count": 2,
   "metadata": {},
   "outputs": [],
   "source": [
    "frames = draw_tracks(tracks, frames)"
   ]
  },
  {
   "cell_type": "code",
   "execution_count": 3,
   "metadata": {},
   "outputs": [],
   "source": [
    "save_video(frames, \"output_videos/output.avi\")"
   ]
  },
  {
   "cell_type": "code",
   "execution_count": null,
   "metadata": {},
   "outputs": [],
   "source": []
  }
 ],
 "metadata": {
  "kernelspec": {
   "display_name": "SL",
   "language": "python",
   "name": "python3"
  },
  "language_info": {
   "codemirror_mode": {
    "name": "ipython",
    "version": 3
   },
   "file_extension": ".py",
   "mimetype": "text/x-python",
   "name": "python",
   "nbconvert_exporter": "python",
   "pygments_lexer": "ipython3",
   "version": "3.9.18"
  }
 },
 "nbformat": 4,
 "nbformat_minor": 2
}
